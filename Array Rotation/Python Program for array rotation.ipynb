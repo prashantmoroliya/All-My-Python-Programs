{
 "cells": [
  {
   "cell_type": "markdown",
   "id": "bfab0677",
   "metadata": {},
   "source": [
    "# Python Program for array rotation"
   ]
  },
  {
   "cell_type": "markdown",
   "id": "137164a2",
   "metadata": {},
   "source": [
    "Write a function rotate(ar[], d, n) that rotates arr[] of size n by d elements. \n",
    "\n",
    "1 2 3 4 5 6 7"
   ]
  },
  {
   "cell_type": "markdown",
   "id": "d1584410",
   "metadata": {},
   "source": [
    "Rotation of the above array by 2 will make array\n",
    "\n",
    "3 4 5 6 7 1 2"
   ]
  },
  {
   "cell_type": "markdown",
   "id": "29021226",
   "metadata": {},
   "source": [
    "### METHOD 1 (Using temp array):\n",
    "<pre>\n",
    "Input arr[] = [1, 2, 3, 4, 5, 6, 7], d = 2, n =7\n",
    "1) Store d elements in a temp array\n",
    "   temp[] = [1, 2]\n",
    "2) Shift rest of the arr[]\n",
    "   arr[] = [3, 4, 5, 6, 7, 6, 7]\n",
    "3) Store back the d elements\n",
    "   arr[] = [3, 4, 5, 6, 7, 1, 2]\n",
    "</pre>"
   ]
  },
  {
   "cell_type": "code",
   "execution_count": 8,
   "id": "6c0284ff",
   "metadata": {},
   "outputs": [],
   "source": [
    "# function to rotate array by d elements using temp array\n",
    "def rotateArray(arr, n , d):\n",
    "    temp = []\n",
    "    i = 0\n",
    "    while(i < d):\n",
    "        temp.append(arr[i])\n",
    "        i = i + 1\n",
    "    i = 0\n",
    "    while(d < n):\n",
    "        arr[i] = arr[d]\n",
    "        i = i + 1\n",
    "        d = d + 1\n",
    "    arr[:] = arr[:i] + temp\n",
    "    return arr"
   ]
  },
  {
   "cell_type": "code",
   "execution_count": 9,
   "id": "60bfbc07",
   "metadata": {},
   "outputs": [
    {
     "name": "stdout",
     "output_type": "stream",
     "text": [
      "Array after left rotation is:  [3, 4, 5, 6, 7, 1, 2]\n"
     ]
    }
   ],
   "source": [
    "# Driver function to test above unction\n",
    "arr = [1, 2, 3 , 4, 5, 6, 7]\n",
    "print(\"Array after left rotation is: \", end = \" \")\n",
    "print(rotateArray(arr, len(arr), 2))"
   ]
  },
  {
   "cell_type": "markdown",
   "id": "b524d3b1",
   "metadata": {},
   "source": [
    "<pre>\n",
    "Time Complexity: O(n)\n",
    "Auxiliary Space: O(d)\n",
    "</pre>"
   ]
  },
  {
   "cell_type": "markdown",
   "id": "9b4b5328",
   "metadata": {},
   "source": [
    "### METHOD 2 (Rotate one by one) : \n",
    "<pre>\n",
    "leftRotate(arr[], d, n)\n",
    "start\n",
    "  For i = 0 to i < d\n",
    "    Left rotate all elements of arr[] by one\n",
    "end\n",
    "</pre>"
   ]
  },
  {
   "cell_type": "code",
   "execution_count": 10,
   "id": "207eeff7",
   "metadata": {},
   "outputs": [],
   "source": [
    "# function to left rotate arr[] of size n by d\n",
    "def leftRotate(arr, d, n):\n",
    "    for i in range(d):\n",
    "        leftRotateByOne(arr, n)\n",
    "        \n",
    "# function to left rotate arr[] of size n by 1\n",
    "def leftRotateByOne(arr, n):\n",
    "    temp = arr[0]\n",
    "    for i in range(n-1):\n",
    "        arr[i] = arr[i+1]\n",
    "    arr[n-1] = temp\n",
    "    \n",
    "# utility function to print an array\n",
    "def printArray(arr, size):\n",
    "    for i in range(size):\n",
    "        print(\"%d\"% arr[i], end = \" \")"
   ]
  },
  {
   "cell_type": "code",
   "execution_count": 11,
   "id": "15c7f208",
   "metadata": {},
   "outputs": [
    {
     "name": "stdout",
     "output_type": "stream",
     "text": [
      "3 4 5 6 7 1 2 "
     ]
    }
   ],
   "source": [
    "# driver program to test above functions\n",
    "arr = [1, 2, 3, 4, 5, 6, 7]\n",
    "leftRotate(arr, 2, 7)\n",
    "printArray(arr, 7)"
   ]
  },
  {
   "cell_type": "markdown",
   "id": "6d839c17",
   "metadata": {},
   "source": [
    "<pre>\n",
    "Time complexity : O(n * d) \n",
    "Auxiliary Space : O(1) \n",
    "</pre>"
   ]
  },
  {
   "cell_type": "markdown",
   "id": "4763cfe9",
   "metadata": {},
   "source": [
    "### METHOD 3 (A Juggling Algorithm)\n",
    "<pre>\n",
    "Let arr[] be {1, 2, 3, 4, 5, 6, 7, 8, 9, 10, 11, 12}\n",
    "\n",
    "a)Elements are first moved in first set (See below diagram for this movement)\n",
    "  /-------> [T]----\\\n",
    "[1| | |2| | |3| | |4| | ]\n",
    " \\____/ \\___/ \\___/ \n",
    "arr[] after this step --> {4 2 3 7 5 6 10 8 9 1 11 12}\n",
    "\n",
    "b)Then in second set.\n",
    "arr[] after this step --> {4 5 3 7 8 6 10 11 9 1 2 12}\n",
    "\n",
    "c)Finally in third set.\n",
    "arr[] after this step --> {4 5 6 7 8 9 10 11 12 1 2 3}\n",
    "</pre>"
   ]
  },
  {
   "cell_type": "code",
   "execution_count": 21,
   "id": "8d3d48ad",
   "metadata": {},
   "outputs": [],
   "source": [
    "# function to left rotate arr[] of size n by d\n",
    "def leftRotate(arr, d, n):\n",
    "    for i in range(gcd(d, n)):\n",
    "        # move i-th values of blocks\n",
    "        temp = arr[i]\n",
    "        j = i\n",
    "        while 1:\n",
    "            k = j + d\n",
    "            if k >= n:\n",
    "                k = k - n\n",
    "            if k == i:\n",
    "                break\n",
    "            arr[j] = arr[k]\n",
    "            j = k\n",
    "        arr[j] = temp\n",
    "\n",
    "        \n",
    "# function to print and array\n",
    "def printArray(arr, size):\n",
    "    for i in range(size):\n",
    "        print(\"%d\"%arr[i], end = \" \")\n",
    "        \n",
    "# function to get gcd of a and b\n",
    "def gcd(a, b):\n",
    "    if(b == 0):\n",
    "        return a\n",
    "    else:\n",
    "        return gcd(b, a%b)"
   ]
  },
  {
   "cell_type": "code",
   "execution_count": 22,
   "id": "320c8023",
   "metadata": {},
   "outputs": [
    {
     "name": "stdout",
     "output_type": "stream",
     "text": [
      "3 4 5 6 7 1 2 "
     ]
    }
   ],
   "source": [
    "# driver program to test above functions\n",
    "arr = [1, 2, 3, 4, 5, 6, 7]\n",
    "leftRotate(arr, 2, 7)\n",
    "printArray(arr, 7)"
   ]
  },
  {
   "cell_type": "markdown",
   "id": "02adae9d",
   "metadata": {},
   "source": [
    "<pre>\n",
    "Time complexity : O(n) \n",
    "Auxiliary Space : O(1)\n",
    "</pre>"
   ]
  },
  {
   "cell_type": "markdown",
   "id": "160db650",
   "metadata": {},
   "source": [
    "### Another Approach : Using List slicing"
   ]
  },
  {
   "cell_type": "code",
   "execution_count": 24,
   "id": "f648421e",
   "metadata": {},
   "outputs": [],
   "source": [
    "# python program using the list slicing approch to rrotate the array\n",
    "def rotateList(arr, d, n):\n",
    "    arr[:] = arr[d:n] + arr[0:d]\n",
    "    return arr"
   ]
  },
  {
   "cell_type": "code",
   "execution_count": 26,
   "id": "96443550",
   "metadata": {},
   "outputs": [
    {
     "name": "stdout",
     "output_type": "stream",
     "text": [
      "Rotate list is: \n",
      "[3, 4, 5, 6, 7, 1, 2]\n"
     ]
    }
   ],
   "source": [
    "# Driver function to test above function\n",
    "arr = [1, 2, 3, 4, 5, 6, 7]\n",
    "print(\"Rotate list is: \")\n",
    "print(rotateList(arr, 2, len(arr)))"
   ]
  },
  {
   "cell_type": "markdown",
   "id": "623b7680",
   "metadata": {},
   "source": [
    "### Method 4 (The Reversal Algorithm) :\n",
    "Algorithm : \n",
    "<pre>\n",
    "rotate(arr[], d, n)\n",
    "  reverse(arr[], 1, d) ;\n",
    "  reverse(arr[], d + 1, n);\n",
    "  reverse(arr[], 1, n);\n",
    "</pre>"
   ]
  },
  {
   "cell_type": "markdown",
   "id": "5e764d34",
   "metadata": {},
   "source": [
    "Let AB are the two parts of the input array where A = arr[0..d-1] and B = arr[d..n-1]. The idea of the algorithm is : \n",
    "<pre>\n",
    "<ul>\n",
    "<li>Reverse A, we get ArB = [2, 1, 3, 4, 5, 6, 7]\n",
    "<li>Reverse B, we get ArBr = [2, 1, 7, 6, 5, 4, 3]\n",
    "<li>Reverse all, we get (ArBr)r = [3, 4, 5, 6, 7, 1, 2]\n",
    "</pre>"
   ]
  },
  {
   "cell_type": "code",
   "execution_count": 1,
   "id": "2a504792",
   "metadata": {},
   "outputs": [],
   "source": [
    "# python program for reverse algorithm of array rotation\n",
    "# function to reverse arr[] from index start to end\n",
    "def reverseArray(arr, start, end):\n",
    "    while start < end:\n",
    "        temp = arr[start]\n",
    "        arr[start] = arr[end]\n",
    "        arr[end] = temp\n",
    "        start += 1\n",
    "        end -= 1\n",
    "\n",
    "# function to left rotate arr[] of size n by d\n",
    "def leftRotate(arr, d):\n",
    "    if d == 0:\n",
    "        return\n",
    "    n = len(arr)\n",
    "    # if rotating factor is greater than array length\n",
    "    d = d % n\n",
    "    reverseArray(arr, 0, d-1)\n",
    "    reverseArray(arr, d, n-1)\n",
    "    reverseArray(arr, 0, n-1)\n",
    "    \n",
    "# function to print an array\n",
    "\n",
    "def printArray(arr):\n",
    "    for i in range(0, len(arr)):\n",
    "        print(arr[i], end = \" \")"
   ]
  },
  {
   "cell_type": "code",
   "execution_count": null,
   "id": "33476a75",
   "metadata": {},
   "outputs": [],
   "source": [
    "# driver function to test above functions\n",
    "arr = [1, 2,]"
   ]
  }
 ],
 "metadata": {
  "kernelspec": {
   "display_name": "Python 3 (ipykernel)",
   "language": "python",
   "name": "python3"
  },
  "language_info": {
   "codemirror_mode": {
    "name": "ipython",
    "version": 3
   },
   "file_extension": ".py",
   "mimetype": "text/x-python",
   "name": "python",
   "nbconvert_exporter": "python",
   "pygments_lexer": "ipython3",
   "version": "3.9.7"
  }
 },
 "nbformat": 4,
 "nbformat_minor": 5
}
